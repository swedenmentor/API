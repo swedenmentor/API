{
 "cells": [
  {
   "cell_type": "code",
   "execution_count": null,
   "id": "initial_id",
   "metadata": {
    "collapsed": true
   },
   "outputs": [],
   "source": [
    "\n",
    "#! Initializing the embedding pipeline that will handle the transformation of our docs into vector embeddings\n",
    "\n",
    "from torch import cuda\n",
    "from langchain.embeddings.huggingface import HuggingFaceEmbeddings\n",
    "\n",
    "embed_model_id = 'sentence-transformers/all-MiniLM-L6-v2'\n",
    "\n",
    "device = f'cuda:{cuda.current_device()}' if cuda.is_available() else 'cpu'\n",
    "\n",
    "embed_model = HuggingFaceEmbeddings(\n",
    "    model_name=embed_model_id,\n",
    "    model_kwargs={'device': device},\n",
    "    encode_kwargs={'device': device, 'batch_size': 32}\n",
    ")\n",
    "\n",
    "\n"
   ]
  },
  {
   "cell_type": "code",
   "execution_count": null,
   "outputs": [],
   "source": [
    "import os\n",
    "import pinecone\n",
    "import time\n",
    "from datasets import load_dataset # jamescalam/llama-2-arxiv-papers-chunked for training\n",
    "\n",
    "# get API key from app.pinecone.io and environment from console\n",
    "pinecone.init(\n",
    "    api_key=os.environ.get('PINECONE_API_KEY') or 'fdf321c5-8907-4b13-90d6-9551fa764ec2',\n",
    "    environment=os.environ.get('PINECONE_ENVIRONMENT') or 'gcp-starter'\n",
    ")\n",
    "\n",
    "\n",
    "index_name = 'llama-2-rag'\n",
    "\n",
    "if index_name not in pinecone.list_indexes():\n",
    "    pinecone.create_index(\n",
    "        index_name,\n",
    "        dimension=len(embeddings[0]),\n",
    "        metric='cosine'\n",
    "    )\n",
    "    # wait for index to finish initialization\n",
    "    while not pinecone.describe_index(index_name).status['ready']:\n",
    "        time.sleep(1)\n",
    "\n",
    "\"\"\"Now we connect to the index:\"\"\"\n",
    "\n",
    "index = pinecone.Index(index_name)\n",
    "index.describe_index_stats()\n",
    "\n",
    "\n",
    "\n",
    "data = load_dataset('jamescalam/llama-2-arxiv-papers-chunked', split='train').to_pandas()\n",
    "\n",
    "batch_size = 32\n",
    "\n",
    "for i in range(0, len(data), batch_size):\n",
    "    i_end = min(len(data), i+batch_size)\n",
    "    batch = data.iloc[i:i_end]\n",
    "    ids = [f\"{x['doi']}-{x['chunk-id']}\" for i, x in batch.iterrows()]\n",
    "    texts = [x['chunk'] for i, x in batch.iterrows()]\n",
    "    embeds = embed_model.embed_documents(texts)\n",
    "    # get metadata to store in Pinecone\n",
    "    metadata = [\n",
    "        {'text': x['chunk'],\n",
    "         'source': x['source'],\n",
    "         'title': x['title']} for i, x in batch.iterrows()\n",
    "    ]\n",
    "    # add to Pinecone\n",
    "    index.upsert(vectors=zip(ids, embeds, metadata))\n"
   ],
   "metadata": {
    "collapsed": false
   },
   "id": "f22ac2f177220103"
  },
  {
   "cell_type": "code",
   "execution_count": null,
   "outputs": [],
   "source": [
    "from transformers import AutoTokenizer, GPT2LMHeadModel, pipeline, BitsAndBytesConfig\n",
    "import torch\n",
    "from langchain.llms import HuggingFacePipeline\n",
    "\n",
    "# The first thing we need to do is initialize a `text-generation` pipeline with Hugging Face transformers. The Pipeline requires three things that we must initialize first, those are:\n",
    "# A LLM, in this case it will be `gpt2`.\n",
    "# The respective tokenizer for the model.\n",
    "\n",
    "model_id = 'gpt2'\n",
    "\n",
    "tokenizer = AutoTokenizer.from_pretrained(model_id)\n",
    "\n",
    "model = GPT2LMHeadModel.from_pretrained(model_id,\n",
    "                                        device_map='auto',\n",
    "                                        offload_folder='offload',\n",
    "                                        low_cpu_mem_usage=True)\n",
    "\n",
    "generate_text = pipeline(\n",
    "    model=model, tokenizer=tokenizer,\n",
    "    return_full_text=True,  # langchain expects the full text\n",
    "    task='text-generation',\n",
    "    max_new_tokens=512,  # mex number of tokens to generate in the output\n",
    "    repetition_penalty=1.1,  # without this output begins repeating\n",
    "    pad_token_id=tokenizer.eos_token_id\n",
    ")\n",
    "\n",
    "\n",
    "\n",
    "# Now to implement this in LangChain\n",
    "\n",
    "llm = HuggingFacePipeline(pipeline=generate_text)\n"
   ],
   "metadata": {
    "collapsed": false
   },
   "id": "c7b83915ac07df6d"
  },
  {
   "cell_type": "code",
   "execution_count": null,
   "outputs": [],
   "source": [
    "from langchain.vectorstores import Pinecone\n",
    "from langchain.chains import RetrievalQA\n",
    "\n",
    "text_field = 'text'  # field in metadata that contains text content\n",
    "\n",
    "vectorstore = Pinecone(index,\n",
    "                       embed_model.embed_query,\n",
    "                       text_field)\n",
    "\n",
    "\n",
    "\n",
    "\n",
    "\n",
    "rag_pipeline = RetrievalQA.from_chain_type(llm=llm,\n",
    "                                           chain_type='stuff',\n",
    "                                           retriever=vectorstore.as_retriever())\n",
    "\n",
    "rag_pipeline('how does the performance of llama 2 compare to other local LLMs?')\n",
    "\n"
   ],
   "metadata": {
    "collapsed": false
   },
   "id": "ee52dc82b457d0ab"
  }
 ],
 "metadata": {
  "kernelspec": {
   "display_name": "Python 3",
   "language": "python",
   "name": "python3"
  },
  "language_info": {
   "codemirror_mode": {
    "name": "ipython",
    "version": 2
   },
   "file_extension": ".py",
   "mimetype": "text/x-python",
   "name": "python",
   "nbconvert_exporter": "python",
   "pygments_lexer": "ipython2",
   "version": "2.7.6"
  }
 },
 "nbformat": 4,
 "nbformat_minor": 5
}
